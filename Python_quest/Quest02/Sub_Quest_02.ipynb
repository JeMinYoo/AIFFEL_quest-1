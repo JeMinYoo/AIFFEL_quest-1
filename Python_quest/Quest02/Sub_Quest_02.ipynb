{
  "nbformat": 4,
  "nbformat_minor": 0,
  "metadata": {
    "colab": {
      "provenance": [],
      "mount_file_id": "13HEiCpfk8Y456STqD8y-ux5RpxzEXyW7",
      "authorship_tag": "ABX9TyM3RgdQHndrhWfncmu1jlsu",
      "include_colab_link": true
    },
    "kernelspec": {
      "name": "python3",
      "display_name": "Python 3"
    },
    "language_info": {
      "name": "python"
    }
  },
  "cells": [
    {
      "cell_type": "markdown",
      "metadata": {
        "id": "view-in-github",
        "colab_type": "text"
      },
      "source": [
        "<a href=\"https://colab.research.google.com/github/JeMinYoo/AIFFEL_quest-1/blob/main/Python_quest/Quest02/Sub_Quest_02.ipynb\" target=\"_parent\"><img src=\"https://colab.research.google.com/assets/colab-badge.svg\" alt=\"Open In Colab\"/></a>"
      ]
    },
    {
      "cell_type": "code",
      "execution_count": 38,
      "metadata": {
        "colab": {
          "base_uri": "https://localhost:8080/"
        },
        "id": "5LcJnHM2xkhr",
        "outputId": "d858c586-71d1-4af7-e9cf-c8aeb2e7e762"
      },
      "outputs": [
        {
          "output_type": "stream",
          "name": "stdout",
          "text": [
            "[('its', 68), ('im', 52), ('dont', 43), ('thetesseract', 34), ('youre', 34), ('hes', 32), ('didnt', 26), ('thats', 25), ('onthe', 25), ('inthe', 24)]\n"
          ]
        }
      ],
      "source": [
        "import re\n",
        "f = open(\"/content/drive/MyDrive/Colab Notebooks/Avengers.txt\", \"r\")\n",
        "\n",
        "readtext = f.read()\n",
        "\n",
        "lowertext = readtext.lower() # 대문자를 소문자로 변경\n",
        "\n",
        "replacetext = lowertext.replace('.', ' ').replace(',', ' ').replace('?', ' ').replace(\"'\", ' ').replace('- ', ' ').replace('!', ' ').replace('/', ' ').replace('^', ' ').replace('%', ' ').replace('\\n', ' ').replace('\\\\', ' ').replace('(', ' ').replace(')', ' ')\n",
        "# 각종 특수 문자를 제거하기 위해 사용\n",
        "\n",
        "# 그냥 replace만 사용하면 \"'\" 이 생겨 쓸데 없는 문자가 생김\n",
        "\n",
        "splitText = re.split(r'\\s+', replacetext) # \"'\" 를 제거하기 위해 사용\n",
        "\n",
        "\n",
        "textList = [] # 딕셔너리에 값을 넣기 위해 리스트로 변환\n",
        "\n",
        "for i in range(len(splitText) - 1):\n",
        "  textList.append(splitText[i] + splitText[i+1])\n",
        "\n",
        "\n",
        "dic = {} # 단어의 갯 수를 새기 위한 딕셔너리\n",
        "\n",
        "for word in textList:\n",
        "  if word in dic:\n",
        "    dic[word] += 1 # 중복되는 단어가 있다면 +1 카운트\n",
        "  else:\n",
        "    dic[word] = 1 # 신규 단어라면 1\n",
        "\n",
        "textList2 = sorted(dic.items(), key=lambda x: x[1], reverse=True) # 중복되는 단어의 밸류 값 순서대로 정렬\n",
        "\n",
        "print(textList2[:10]) # 상위 10개 단어 출력\n",
        "\n",
        "# [회고]\n",
        "\n",
        "# 처음 시작은 상당히 어려웠다.... 문제에 대한 이해도 잘 안갔고, 어떻게 코드를 짜야할 지도 감이 안잡혔다.\n",
        "# 막상 코드를 완성하고 보니 지금까지 배웠던 것들로 완성할 수 있었고 같은 팀으로 진행한 유진 그루님과 많은 대화와 토론, 구글링이 많은 도움이 됐다.\n",
        "# 이걸로 끝내면 안되고 계속 보고 이해해야할 것 같다."
      ]
    }
  ]
}